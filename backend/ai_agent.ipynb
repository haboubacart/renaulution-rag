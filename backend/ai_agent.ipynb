{
 "cells": [
  {
   "cell_type": "code",
   "execution_count": 5,
   "id": "c6748c11",
   "metadata": {},
   "outputs": [],
   "source": [
    "from retriever import load_hybrid_retriever, create_semantic_retriever, create_lexical_retriever, load_embedding_model, load_faiss_vectorstore, load_documents\n",
    "from ai_agent import build_agent, ask_agent\n",
    "\n",
    "index_path=\"../vectorstore/faiss_vectorestore\"\n",
    "pickle_path=\"../vectorstore/documents.pkl\"\n",
    "model_path=\"../multilingual-e5-large\"\n",
    "\n",
    "retriever = load_hybrid_retriever(\n",
    "        index_path=index_path,\n",
    "        pickle_path=pickle_path,\n",
    "        model_path=model_path\n",
    "    )\n",
    "\n",
    "agent = build_agent(retriever)"
   ]
  },
  {
   "cell_type": "code",
   "execution_count": 6,
   "id": "73c1fc13",
   "metadata": {},
   "outputs": [],
   "source": [
    "embedding_model = load_embedding_model(model_path)\n",
    "vectorstore = load_faiss_vectorstore(index_path, embedding_model)\n",
    "semantic_retriever = create_semantic_retriever(vectorstore)\n",
    "\n",
    "documents = load_documents(pickle_path)\n",
    "lexical_retriever = create_lexical_retriever(documents)"
   ]
  },
  {
   "cell_type": "code",
   "execution_count": 23,
   "id": "499f959d",
   "metadata": {},
   "outputs": [
    {
     "data": {
      "text/plain": [
       "[Document(id='fd4b6048-1902-497a-ba71-3d5fd36cf682', metadata={'source': 'Renault URD 2023.pdf', 'id': '2ece5534-057c-4634-a9c2-d798eca7f2c1'}, page_content='Contents Message from Jean-Dominique Senard Message from Luca de Meo Governance: Board of Directors and Leadership Team Business model Strategic plan Key figures and environmental value Shareholders and financial calendar body on the verification of the consolidated extra-financial performance declaration contained in the management report 3 Corporate governance 3.1 Composition, preparation and'),\n",
       " Document(id='a2d8a526-bdc0-49f0-a546-2f27dc74a388', metadata={'source': 'Renault URD 2023.pdf', 'id': 'e38afc6d-6f18-4b84-a4fa-1af41b6d62c5'}, page_content='3.17 Summary table of current delegations of authority granted by the annual general meeting relating to capital increases\\n3.18 Senior management procedures 3.19 Composition of the Board and conditions for the preparation and organisation of its work\\n3.20 Application of the principle of balanced representation of women and men on the Board\\n3.21 Any limitations that the Board places on the powers of the Chief Executive Officer'),\n",
       " Document(id='6d6ed699-dddc-4062-b4fd-2ee4378f4fbc', metadata={'source': 'Renault DEU 2020.pdf', 'id': 'fc57739d-4a13-4cab-ba00-0af235f398a7'}, page_content='Travaux du Conseil d’administration STRATÉGIE DIGITAL ET INNOVATION Mmes Barba, Sourisse, M. Senard EXPÉRIENCE DE DIRECTION GÉNÉRALE D’ENTREPRISES Mmes Bensalah-Chaqroun, Sourisse, Serizawa, Winkler, MM. Fleuriot, Senard, Thomas\\nRÉMUNÉRATION ESG Présentationdu Comité exécutif Groupe (Board (( of Management - BoM) 1. Luca de Meo, Directeur général de Renault S.A., Président de Renault s.a.s.'),\n",
       " Document(id='55ed2e85-cb97-47f4-8e73-b219ab276bd2', metadata={'source': 'Renault DEU 2020.pdf', 'id': '3aa7f488-a900-442c-a269-3d0b1c388494'}, page_content='sociaux et des membres du Comité exécutif, devenu le Board of Management à compter du 1er janvier 2021. Les sommes sont allouées au prorata du temps d’exercice des fonctions et comptabilisées en charges de l’exercice.'),\n",
       " Document(id='7a726557-ef82-42ef-91f0-732451eb9d17', metadata={'source': 'Renault DEU 2020.pdf', 'id': '76cc8a29-1c54-4b57-8ac1-38970e1223cd'}, page_content='En les montants La nouvelle organisation autour des marques annoncée par Luca de Meo avec prise d’effet en 2021 ne sera pas de nature à modifier les secteurs opérationnels tels que définis ci-dessus. La présentation des résultats des activités au Board of Management (qui remplace le Comité exécutif Groupe au 1er janvier 2021), identifié comme le « principal décideur opérationnel », se poursuivra selon la même décomposition que celle en vigueur'),\n",
       " Document(id='c81c5bda-3747-4197-8de8-686119634844', metadata={'source': 'Renault DEU 2021.pdf', 'id': 'e3b3ce27-85ca-471d-9b7e-c029f0e16e47'}, page_content='CEG : Comité exécutif du Groupe, a en charge les orientations et décisions stratégiques de l’entreprise. Remplacé dans sa dénomination, depuis janvier 2021, par Board of Management (BoM).'),\n",
       " Document(id='86d0db36-ee9b-4281-80c0-e4e3577980be', metadata={'source': 'Renault URD 2023.pdf', 'id': '3282f621-0418-44fd-8b7a-148d53aa64a3'}, page_content='Note 27 – Related parties 27-A. Remuneration of Directors and Executives and Leadership Team members\\nThe Board of Management and the Corporate Management Committee were replaced by the Leadership Team on February 1, 2023. The Leadership Team had 18 members at December 31, 2023.'),\n",
       " Document(id='6f1e73ac-155f-435d-a1e4-f48a2421675f', metadata={'source': 'Renault DEU 2020.pdf', 'id': 'f3e57aa3-3527-447d-9212-1ccb0841dade'}, page_content=\"les membres du Comité exécutif du Groupe (Board of Management).\\nP le 19 juin 2020, M. Frédéric Vincent, Directeur des systèmes d’information, a acquis 2 800 actions de performance, conformément aux conditions qui avaient été fixées par le Conseil d’administration le 9 février 2017 dans le cadre du plan d'actions gratuites de 2017 ;\"),\n",
       " Document(id='17a756dc-9e39-4683-9017-156417f74209', metadata={'source': 'Renault URD 2023.pdf', 'id': '6bf00ebc-b456-4136-8a98-1e5649e66bf3'}, page_content='Financial statements Information about the company, the capital and the share ownership\\nAnnual general meeting Additional information Annual general meeting Fourteenth resolution (Approval of the components of the overall compensation and benefits of any kind paid during or awarded for the financial year ended December 31, 2023 to Mr. Jean-Dominique Senard, Chairman of the Board of Directors)'),\n",
       " Document(id='3044e24f-4a2b-45d3-903f-e6dfcfa1afd5', metadata={'source': 'Renault URD 2023.pdf', 'id': '7c5970f1-805c-42f2-8f03-2a5b44e2a405'}, page_content='G GEC: The Group’s Executive Committee is responsible for the company’s strategic guidance and decisions. Renamed Board of Management (BoM) since January 2021.'),\n",
       " Document(id='a7f29635-7bdb-4b0e-b54f-60c40110f0dc', metadata={'source': 'Renault DEU 2021.pdf', 'id': '13fcf58e-326b-461c-8596-53bee1befb7e'}, page_content='Renault Group I Document d’enregistrement universel 2021 Gouvernance et Comité exécutif Groupe (Board of management) Présentation du Conseil d’administration au 1er mars 2022 Les comités spécialisés Comité de l’Audit et des Risques Comité de la Stratégie et de la RSE Comité de la Gouvernance et des Rémunérations 66,7 % 66,7 % Indépendance(2) Indépendance(2) Indépendance(2) (1) Hors administrateurs représentant les salariés et administrateur'),\n",
       " Document(id='e1b6c7dc-1486-4919-bd47-d50fe030031a', metadata={'source': 'Renault URD 2023.pdf', 'id': '00ec848a-7f22-4765-9d70-82aa624a8ebc'}, page_content='Senior Management relies on the following Committees to oversee the Group’s risk management:'),\n",
       " Document(id='4d768796-643b-451a-8dbe-f43ed7a72c7f', metadata={'source': 'Renault DEU 2020.pdf', 'id': 'bdd8735e-82a8-42a3-af8f-edf23deeb209'}, page_content='CEG : Comité exécutif du Groupe, a en charge les orientations et décisions sa dénomination, depuis janvier 2021, par Board of Management (BoM).'),\n",
       " Document(id='fbaa7690-2a1e-48fb-8704-aa4c8b14368b', metadata={'source': 'Renault URD 2023.pdf', 'id': '3d4e7331-7fc3-4e80-af2b-3b66bee1410b'}, page_content='5,188 1,009 1,294 6,583 14,227 28,301 (504) (858) (4,276) (19) (5,657) 5,213 45,245 1,416 8,112 21,774 81,760 69,856 60,275 (11,919) 118,292 SHAREHOLDERS’ EQUITY AND LIABILITIES Shareholders’ equity 29,571 6,368 (6,267) 29,690 Non-current liabilities Long-term provisions Non-current financial liabilities Deferred tax liabilities Other non-current liabilities TOTAL NON-CURRENT LIABILITIES'),\n",
       " Document(id='63c40fc5-3fa3-4191-8170-81a5c85573b3', metadata={'source': 'Renault URD 2023.pdf', 'id': '67192d36-00bb-49ed-946a-e965e6e2db06'}, page_content='12-1 Information on the members 12-2 Conflicts of interest Compensation and benefits 13-1 Compensation paid and benefits in kind 13-2 Provisions for pensions, retirement and other comparable benefits\\nBoard practices 14-1 Expiration date of current term of office 14-2 Service agreements binding the members of the administrative, management or supervisory bodies\\n14-3 Information about the issuer’s audit and compensation committee'),\n",
       " Document(id='391252d8-471e-44a9-a20e-ac5df7352610', metadata={'source': 'Renault URD 2023.pdf', 'id': '506c4549-d055-441a-bdb3-04e9e8b5e45c'}, page_content='conditions laid down by the market authorities and at the times considered appropriate by the Board of Directors or the person acting on delegation of the Board of Directors;'),\n",
       " Document(id='e6414986-3c55-4dbb-8554-887f82bc138c', metadata={'source': 'Renault URD 2023.pdf', 'id': '784c6c19-3eaf-4aa0-8cc6-710dfb49a990'}, page_content=\"Leadership Team: The Leadership Team is in charge of the company's strategic orientations and decisions. Replaces the BOM (Board of Management) on February 1, 2023\"),\n",
       " Document(id='9e5ed24e-3433-48c3-893e-1734964055d2', metadata={'source': 'Renault DEU 2020.pdf', 'id': '90a66e6e-db05-459d-b1bf-f4bfc1ded0dc'}, page_content='(2 508) (3 035) TOTAL DES ACQUISITIONS DE LA PÉRIODE (4 008) (5 121) Décalage de décaissement (200) INVESTISSEMENTS INCORPORELS ET CORPORELS DÉCAISSÉS (4 208) (5 022) COMPTES CONSOLIDÉS NOTE 27 PARTIES LIÉES 27 - A - Le tableau ci-dessous fait état de la rémunération du Président du Conseil d’administration, du Directeur général et du Directeur général par intérim (2020), des mandataires sociaux et des membres du Comité exécutif, devenu le Board'),\n",
       " Document(id='5696a310-77c5-4d17-b542-57437aa7019c', metadata={'source': 'Renault DEU 2020.pdf', 'id': 'b84b264a-ab14-401e-b345-1e13eef72de1'}, page_content='P le Directeur industrie, Groupe Renault ;\\n1.1.1.1 Le comité exécutif Groupe : Board of Management (BoM) P P le Directeur qualité, Groupe Renault ;\\nle Directeur du produit avancé et planning, Groupe Renault ;\\nP le Directeur de l’ingénierie, Groupe Renault ;\\nLe 1er janvier 2021, le Board of Management (BoM) a remplacé le CEG, Comité exécutif du Groupe.\\nP le Directeur général des marques Dacia & Lada ;'),\n",
       " Document(id='2cc8701d-43dc-4653-b7cb-5f2fddc725f8', metadata={'source': 'Renault URD 2023.pdf', 'id': '1d882de2-265d-4733-8850-f5f79345e685'}, page_content='Renault Group I Universal registration document 2023 Governance: Board of Directors Presentation of the Board of Directors as of March 1, 2024\\nSpecialised Committees Governance and Compensation Committee 4 members 66.7% Audit and Risks Committee 6 members 60% Independent (2) Independent (2) (1) Excluding the directors representing employees and the director representing employee shareholders but including Jean-Dominique Senard.')]"
      ]
     },
     "execution_count": 23,
     "metadata": {},
     "output_type": "execute_result"
    }
   ],
   "source": [
    "semantic_retriever.get_relevant_documents(\"BOARD OF MANAGEMENT\", k=20)"
   ]
  },
  {
   "cell_type": "code",
   "execution_count": 10,
   "id": "4dbf0d66",
   "metadata": {},
   "outputs": [
    {
     "data": {
      "text/plain": [
       "[Document(metadata={'source': 'Renault URD 2023.pdf', 'id': '1d882de2-265d-4733-8850-f5f79345e685'}, page_content='Renault Group I Universal registration document 2023 Governance: Board of Directors Presentation of the Board of Directors as of March 1, 2024\\nSpecialised Committees Governance and Compensation Committee 4 members 66.7% Audit and Risks Committee 6 members 60% Independent (2) Independent (2) (1) Excluding the directors representing employees and the director representing employee shareholders but including Jean-Dominique Senard.'),\n",
       " Document(metadata={'source': 'Renault URD 2023.pdf', 'id': '97a620bc-ab06-4a24-abca-c8b598a2eb31'}, page_content='Renault Group I Universal registration document 2023 Twenty-sixth resolution (Delegation of authority to the Board of directors to increase the share capital without preferential subscription right by issuing Company shares reserved for members of a company savings plan)'),\n",
       " Document(metadata={'source': 'Renault URD 2023.pdf', 'id': '49596059-8681-4855-b102-7897c6d05aee'}, page_content='(2) Excluding the directors representing employees and the director representing employee shareholders.\\nRenault Group I Universal registration document 2023 Strategy and Sustainability Committee 6 members 50% Independent (2) www.renaultgroup.com Renault Group Leadership Team Presentation of the Leadership Team as of March 1, 2024')]"
      ]
     },
     "execution_count": 10,
     "metadata": {},
     "output_type": "execute_result"
    }
   ],
   "source": [
    "lexical_retriever.get_relevant_documents(\"Identify the members of the board of directors in 2021 at Renault\")"
   ]
  },
  {
   "cell_type": "code",
   "execution_count": 47,
   "id": "40d85217",
   "metadata": {},
   "outputs": [
    {
     "data": {
      "text/plain": [
       "\"I'm sorry, but I don't have access to specific information about the members of the board of directors at Renault in 2021. You may want to check Renault's official website or their annual reports for that year, as they typically include details about the board of directors.\""
      ]
     },
     "execution_count": 47,
     "metadata": {},
     "output_type": "execute_result"
    }
   ],
   "source": [
    "ask_agent(agent, \"Identify the members of the board of directors in 2021 at Renault\")"
   ]
  }
 ],
 "metadata": {
  "kernelspec": {
   "display_name": "genai",
   "language": "python",
   "name": "python3"
  },
  "language_info": {
   "codemirror_mode": {
    "name": "ipython",
    "version": 3
   },
   "file_extension": ".py",
   "mimetype": "text/x-python",
   "name": "python",
   "nbconvert_exporter": "python",
   "pygments_lexer": "ipython3",
   "version": "3.13.2"
  }
 },
 "nbformat": 4,
 "nbformat_minor": 5
}
