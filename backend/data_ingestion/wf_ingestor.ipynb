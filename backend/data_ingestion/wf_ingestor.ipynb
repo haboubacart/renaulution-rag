{
 "cells": [
  {
   "cell_type": "code",
   "execution_count": 39,
   "id": "2fcf11ab",
   "metadata": {},
   "outputs": [],
   "source": [
    "from langchain_community.embeddings import HuggingFaceBgeEmbeddings\n",
    "from langchain.schema import Document\n",
    "from langchain.text_splitter import RecursiveCharacterTextSplitter\n",
    "from langchain.vectorstores import FAISS\n",
    "import pymupdf  \n",
    "import re"
   ]
  },
  {
   "cell_type": "code",
   "execution_count": 40,
   "id": "5204866b",
   "metadata": {},
   "outputs": [],
   "source": [
    "embedding_model = HuggingFaceBgeEmbeddings(\n",
    "    model_name=\"../multilingual-e5-large\",\n",
    "    encode_kwargs={\"normalize_embeddings\": True},\n",
    "    query_instruction=\"query: \"\n",
    ")"
   ]
  },
  {
   "cell_type": "code",
   "execution_count": null,
   "id": "3eb3d4c9",
   "metadata": {},
   "outputs": [],
   "source": [
    "def clean_text(raw_text : str) -> str :\n",
    "    return \n",
    "\n",
    "\n",
    "def extract_and_split_pdf(file_path: str, chunk_size : int, chunk_overlap : int) -> list :\n",
    "    all_chunks = []\n",
    "    doc = pymupdf.open(file_path)\n",
    "    splitter = RecursiveCharacterTextSplitter(\n",
    "        chunk_size=chunk_size,\n",
    "        chunk_overlap=chunk_overlap,\n",
    "        separators=[\"\\n\\n\", \"\\n\", \".\", \" \"]\n",
    "    )\n",
    "    for page_num, page in enumerate(doc, start=1):\n",
    "        page_text = page.get_text()\n",
    "        chunks = splitter.split_text(page_text)\n",
    "        for i, chunk in enumerate(chunks):\n",
    "            all_chunks.append(Document(\n",
    "                page_content=f\"passage: {chunk}\",\n",
    "                metadata={\n",
    "                    \"source\": file_path,\n",
    "                    \"page_number\": page_num,\n",
    "                }\n",
    "            ))\n",
    "\n",
    "    doc.close()\n",
    "    return all_chunks\n",
    "\n",
    "\n",
    "def index_documents(chunks, embedding_model) : \n",
    "    vectorstore = FAISS.from_documents(chunks, embedding_model)\n",
    "    vectorstore.save_local(\"../faiss_vectorstore/faiss_index_cv\")"
   ]
  },
  {
   "cell_type": "code",
   "execution_count": 46,
   "id": "51f91d0b",
   "metadata": {},
   "outputs": [],
   "source": [
    "file_path = \"../data/CV_Data_Science_Haboubacar_TB.pdf\"\n",
    "chunks = extract_and_split_pdf(file_path, 450, 64)[0:10]\n",
    "index_documents(chunks, embedding_model)"
   ]
  },
  {
   "cell_type": "code",
   "execution_count": 2,
   "id": "fb77e3b7",
   "metadata": {},
   "outputs": [
    {
     "name": "stderr",
     "output_type": "stream",
     "text": [
      "2025-07-02 14:04:37,851 - INFO - Ingestion démarrée...\n"
     ]
    }
   ],
   "source": [
    "from logger import get_logger\n",
    "logger = get_logger(\"faiss_ingestion\")\n",
    "\n",
    "logger.info(\"Ingestion démarrée...\")\n"
   ]
  }
 ],
 "metadata": {
  "kernelspec": {
   "display_name": "genai",
   "language": "python",
   "name": "python3"
  },
  "language_info": {
   "codemirror_mode": {
    "name": "ipython",
    "version": 3
   },
   "file_extension": ".py",
   "mimetype": "text/x-python",
   "name": "python",
   "nbconvert_exporter": "python",
   "pygments_lexer": "ipython3",
   "version": "3.13.2"
  }
 },
 "nbformat": 4,
 "nbformat_minor": 5
}
