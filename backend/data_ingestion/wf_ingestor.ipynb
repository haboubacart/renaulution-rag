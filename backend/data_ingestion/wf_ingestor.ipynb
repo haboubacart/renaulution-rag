{
 "cells": [
  {
   "cell_type": "code",
   "execution_count": 18,
   "id": "2fcf11ab",
   "metadata": {},
   "outputs": [],
   "source": [
    "from langchain_community.embeddings import HuggingFaceBgeEmbeddings\n",
    "from tqdm import tqdm\n",
    "from pdf_ingestor import extract_and_split_pdf\n",
    "from ytb_ingestor import extract_and_split_ytb\n",
    "from vectorstore import index_documents, create_vectorstore\n",
    "from langchain_community.vectorstores import FAISS\n",
    "from langchain_community.retrievers import BM25Retriever\n",
    "import pickle\n",
    "import os \n",
    "from logger import get_logger\n",
    "logger = get_logger()"
   ]
  },
  {
   "cell_type": "code",
   "execution_count": 3,
   "id": "27a0fff5",
   "metadata": {},
   "outputs": [],
   "source": [
    "embedding_model = HuggingFaceBgeEmbeddings(\n",
    "    model_name=\"../../models/bge-m3\",\n",
    "    encode_kwargs={\"normalize_embeddings\": True},\n",
    "    query_instruction=\"query: \"\n",
    ")"
   ]
  },
  {
   "cell_type": "code",
   "execution_count": null,
   "id": "c1ee4d27",
   "metadata": {},
   "outputs": [
    {
     "name": "stderr",
     "output_type": "stream",
     "text": [
      "[20:14:17.946] INFO - Création d'un index FAISS vide (dim = 1024)\n",
      "[20:14:18.053] INFO - Sauvegarde de l'index vide dans: ../../vectorstore/faiss_vectorestore_v2\n",
      "[20:14:18.055] INFO - Index vide (cosinus) créé avec succès.\n"
     ]
    },
    {
     "data": {
      "text/plain": [
       "<langchain_community.vectorstores.faiss.FAISS at 0x1bab7c4b230>"
      ]
     },
     "execution_count": 9,
     "metadata": {},
     "output_type": "execute_result"
    }
   ],
   "source": [
    "\"\"\"index_path = \"../../vectorstore/faiss_vectorestore\"\n",
    "create_vectorstore(embedding_model, index_path)\"\"\""
   ]
  },
  {
   "cell_type": "code",
   "execution_count": 4,
   "id": "90b60834",
   "metadata": {},
   "outputs": [],
   "source": [
    "\n",
    "dict_ytb_videos_urls = {\n",
    "    \"PLAN STRATEGIQUE RENAULUTION\" : \"https://www.youtube.com/watch?app=desktop&v=EtivAvmDr2Q&t=901s\",\n",
    "    \"Conférence résultats financiers 2021 de Renault Group\" : \"https://www.youtube.com/watch?v=VfIeaIFSCQA\",\n",
    "    \"Conférence résultats financiers 2022 de Renault Group\" : \"https://www.youtube.com/watch?v=UWHlyjVtwT8\",\n",
    "    \"Conférence résultats financiers 2023 de Renault Group\" : \"https://www.youtube.com/watch?v=B57wephix-w\",\n",
    "    \"Conférence résultats financiers 2024 de Renault Group\" : \"https://www.youtube.com/watch?v=BA5ZOtWfpY0\",\n",
    "}"
   ]
  },
  {
   "cell_type": "markdown",
   "id": "500dd420",
   "metadata": {},
   "source": [
    "### Ingestion PDF"
   ]
  },
  {
   "cell_type": "code",
   "execution_count": null,
   "id": "f8311862",
   "metadata": {},
   "outputs": [],
   "source": [
    "\"\"\"CHUNK_SIZE = 150\n",
    "OVERLAP = 25\n",
    "folder_path = \"../../data\"\n",
    "markdown_folder = \"../../data/md_extracted\"\n",
    "pdf_files_list = [\"Renault DEU 2020.pdf\", \"Renault DEU 2021.pdf\", \"Renault URD 2022.pdf\", \"Renault URD 2023.pdf\", \"Renault 2024 Rapport d’activité.pdf\"]\n",
    "pdf_chunks = []\"\"\""
   ]
  },
  {
   "cell_type": "code",
   "execution_count": null,
   "id": "fe3b7938",
   "metadata": {},
   "outputs": [],
   "source": [
    "\"\"\"for filename in (pdf_files_list) : \n",
    "    file_path = os.path.join(folder_path, filename)\n",
    "    md_file_path = os.path.join(markdown_folder, filename.split('.')[0]+'.md')\n",
    "    chunks = extract_and_split_pdf(file_path, md_file_path, CHUNK_SIZE, OVERLAP)\n",
    "    pdf_chunks.extend(chunks)\"\"\""
   ]
  },
  {
   "cell_type": "code",
   "execution_count": null,
   "id": "cd189405",
   "metadata": {},
   "outputs": [],
   "source": [
    "\"\"\"index_documents(pdf_chunks, embedding_model, \"../../vectorstore/faiss_vectorestore\")\"\"\""
   ]
  },
  {
   "cell_type": "markdown",
   "id": "ceabd342",
   "metadata": {},
   "source": [
    "### Ingestion Youtube transcript"
   ]
  },
  {
   "cell_type": "code",
   "execution_count": 5,
   "id": "80467f5e",
   "metadata": {},
   "outputs": [
    {
     "name": "stderr",
     "output_type": "stream",
     "text": [
      "[18:00:55.165] INFO - Extraction des sous-titres pour la vidéo : PLAN STRATEGIQUE RENAULUTION (https://www.youtube.com/watch?app=desktop&v=EtivAvmDr2Q&t=901s)\n",
      "[18:00:57.437] INFO - Chargement réussi : 1 documents extraits de PLAN STRATEGIQUE RENAULUTION\n",
      "[18:00:57.445] INFO - Chunking terminé : 175 chunks générés pour PLAN STRATEGIQUE RENAULUTION\n",
      "[18:00:57.448] INFO - Extraction des sous-titres pour la vidéo : Conférence résultats financiers 2021 de Renault Group (https://www.youtube.com/watch?v=VfIeaIFSCQA)\n",
      "[18:00:58.459] INFO - Chargement réussi : 1 documents extraits de Conférence résultats financiers 2021 de Renault Group\n",
      "[18:00:58.467] INFO - Chunking terminé : 126 chunks générés pour Conférence résultats financiers 2021 de Renault Group\n",
      "[18:00:58.469] INFO - Extraction des sous-titres pour la vidéo : Conférence résultats financiers 2022 de Renault Group (https://www.youtube.com/watch?v=UWHlyjVtwT8)\n",
      "[18:00:59.544] INFO - Chargement réussi : 1 documents extraits de Conférence résultats financiers 2022 de Renault Group\n",
      "[18:00:59.549] INFO - Chunking terminé : 102 chunks générés pour Conférence résultats financiers 2022 de Renault Group\n",
      "[18:00:59.551] INFO - Extraction des sous-titres pour la vidéo : Conférence résultats financiers 2023 de Renault Group (https://www.youtube.com/watch?v=B57wephix-w)\n",
      "[18:01:00.468] INFO - Chargement réussi : 1 documents extraits de Conférence résultats financiers 2023 de Renault Group\n",
      "[18:01:00.473] INFO - Chunking terminé : 108 chunks générés pour Conférence résultats financiers 2023 de Renault Group\n",
      "[18:01:00.475] INFO - Extraction des sous-titres pour la vidéo : Conférence résultats financiers 2024 de Renault Group (https://www.youtube.com/watch?v=BA5ZOtWfpY0)\n",
      "[18:01:01.533] INFO - Chargement réussi : 1 documents extraits de Conférence résultats financiers 2024 de Renault Group\n",
      "[18:01:01.539] INFO - Chunking terminé : 112 chunks générés pour Conférence résultats financiers 2024 de Renault Group\n"
     ]
    }
   ],
   "source": [
    "ytb_chunks = []\n",
    "CHUNK_SIZE = 150\n",
    "OVERLAP = 25\n",
    "\n",
    "for video_name, url in dict_ytb_videos_urls.items() : \n",
    "    ytb_chunks.extend(extract_and_split_ytb(url, video_name, CHUNK_SIZE, OVERLAP))"
   ]
  },
  {
   "cell_type": "code",
   "execution_count": 7,
   "id": "dc947d57",
   "metadata": {},
   "outputs": [
    {
     "data": {
      "text/plain": [
       "623"
      ]
     },
     "execution_count": 7,
     "metadata": {},
     "output_type": "execute_result"
    }
   ],
   "source": [
    "len(ytb_chunks)"
   ]
  },
  {
   "cell_type": "code",
   "execution_count": 24,
   "id": "c5efa680",
   "metadata": {},
   "outputs": [
    {
     "data": {
      "text/plain": [
       "'index_documents(ytb_chunks, embedding_model, \"../../vectorstore/faiss_vectorestore_sauv\", 200)'"
      ]
     },
     "execution_count": 24,
     "metadata": {},
     "output_type": "execute_result"
    }
   ],
   "source": [
    "\"\"\"index_documents(ytb_chunks, embedding_model, \"../../vectorstore/faiss_vectorestore_sauv\", 200)\"\"\""
   ]
  },
  {
   "cell_type": "code",
   "execution_count": 17,
   "id": "6582cace",
   "metadata": {},
   "outputs": [
    {
     "data": {
      "text/plain": [
       "'with open(\"../../vectorstore/documents_sauv.pkl\", \"rb\") as f:\\n    data = pickle.load(f)'"
      ]
     },
     "execution_count": 17,
     "metadata": {},
     "output_type": "execute_result"
    }
   ],
   "source": [
    "\"\"\"with open(\"../../vectorstore/documents_sauv.pkl\", \"rb\") as f:\n",
    "    data = pickle.load(f)\"\"\""
   ]
  },
  {
   "cell_type": "code",
   "execution_count": null,
   "id": "812be02d",
   "metadata": {},
   "outputs": [],
   "source": [
    "\"\"\"data.extend(ytb_chunks)\"\"\""
   ]
  },
  {
   "cell_type": "code",
   "execution_count": null,
   "id": "1896c577",
   "metadata": {},
   "outputs": [],
   "source": [
    "\"\"\"with open(\"../../vectorstore/documents_sauv.pkl\", \"rb\", \"wb\") as f:\n",
    "    pickle.dump(data, f)\"\"\""
   ]
  },
  {
   "cell_type": "code",
   "execution_count": 23,
   "id": "829f9ee2",
   "metadata": {},
   "outputs": [],
   "source": [
    "with open(\"../../vectorstore/documents_ytb.pkl\",\"wb\") as f:\n",
    "    pickle.dump(ytb_chunks, f)"
   ]
  },
  {
   "cell_type": "code",
   "execution_count": null,
   "id": "ac3c7103",
   "metadata": {},
   "outputs": [],
   "source": [
    "\"\"\"vectorstore = FAISS.load_local(index_path, embedding_model, allow_dangerous_deserialization=True)\n",
    "retriever = vectorstore.as_retriever()\n",
    "retriever.get_relevant_documents(\"(Board of Management - BoM)\", k=10)\"\"\""
   ]
  },
  {
   "cell_type": "code",
   "execution_count": null,
   "id": "72e49957",
   "metadata": {},
   "outputs": [],
   "source": [
    "\"\"\"lexical_retriever = BM25Retriever.from_documents(pdf_chunks)\n",
    "lexical_retriever.k = 3\n",
    "lexical_retriever.get_relevant_documents(\"Identify the members of the board of directors in 2021.\")\"\"\""
   ]
  },
  {
   "cell_type": "code",
   "execution_count": 36,
   "id": "6646b813",
   "metadata": {},
   "outputs": [
    {
     "data": {
      "text/plain": [
       "'from langchain.vectorstores import FAISS\\nfrom langchain.embeddings import HuggingFaceEmbeddings  # ou ton embedding actuel\\n\\n\\n# Charge les deux stores\\nvs1 = FAISS.load_local(\"../../vectorstore/faiss_vectorestore_sauv\", embeddings=embedding_model, allow_dangerous_deserialization=True)\\nvs2 = FAISS.load_local(\"../../vectorstore/faiss_vectorestore_ytb\", embeddings=embedding_model, allow_dangerous_deserialization=True)\\n'"
      ]
     },
     "execution_count": 36,
     "metadata": {},
     "output_type": "execute_result"
    }
   ],
   "source": [
    "\"\"\"from langchain.vectorstores import FAISS\n",
    "from langchain.embeddings import HuggingFaceEmbeddings  # ou ton embedding actuel\n",
    "\n",
    "\n",
    "# Charge les deux stores\n",
    "vs1 = FAISS.load_local(\"../../vectorstore/faiss_vectorestore_sauv\", embeddings=embedding_model, allow_dangerous_deserialization=True)\n",
    "vs2 = FAISS.load_local(\"../../vectorstore/faiss_vectorestore_ytb\", embeddings=embedding_model, allow_dangerous_deserialization=True)\n",
    "\"\"\""
   ]
  }
 ],
 "metadata": {
  "kernelspec": {
   "display_name": "genai",
   "language": "python",
   "name": "python3"
  },
  "language_info": {
   "codemirror_mode": {
    "name": "ipython",
    "version": 3
   },
   "file_extension": ".py",
   "mimetype": "text/x-python",
   "name": "python",
   "nbconvert_exporter": "python",
   "pygments_lexer": "ipython3",
   "version": "3.13.2"
  }
 },
 "nbformat": 4,
 "nbformat_minor": 5
}
