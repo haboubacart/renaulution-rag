{
 "cells": [
  {
   "cell_type": "code",
   "execution_count": 1,
   "id": "2fcf11ab",
   "metadata": {},
   "outputs": [
    {
     "name": "stderr",
     "output_type": "stream",
     "text": [
      "c:\\Users\\habou\\miniconda3\\envs\\genai\\Lib\\site-packages\\tqdm\\auto.py:21: TqdmWarning: IProgress not found. Please update jupyter and ipywidgets. See https://ipywidgets.readthedocs.io/en/stable/user_install.html\n",
      "  from .autonotebook import tqdm as notebook_tqdm\n"
     ]
    }
   ],
   "source": [
    "from langchain_community.embeddings import HuggingFaceBgeEmbeddings\n",
    "from tqdm import tqdm\n",
    "from pdf_ingestor import extract_and_split_pdf\n",
    "from pdf_ingestor import extract_and_split_pdf_v2\n",
    "from ytb_ingestor import extract_and_split_ytb\n",
    "from vectorstore import index_documents, create_vectorstore\n",
    "from langchain_community.vectorstores import FAISS\n",
    "from langchain_community.retrievers import BM25Retriever\n",
    "import os \n",
    "from logger import get_logger\n",
    "logger = get_logger()"
   ]
  },
  {
   "cell_type": "code",
   "execution_count": 2,
   "id": "27a0fff5",
   "metadata": {},
   "outputs": [
    {
     "name": "stderr",
     "output_type": "stream",
     "text": [
      "C:\\Users\\habou\\AppData\\Local\\Temp\\ipykernel_1700\\961953646.py:1: LangChainDeprecationWarning: The class `HuggingFaceBgeEmbeddings` was deprecated in LangChain 0.2.2 and will be removed in 1.0. An updated version of the class exists in the :class:`~langchain-huggingface package and should be used instead. To use it run `pip install -U :class:`~langchain-huggingface` and import as `from :class:`~langchain_huggingface import HuggingFaceEmbeddings``.\n",
      "  embedding_model = HuggingFaceBgeEmbeddings(\n"
     ]
    }
   ],
   "source": [
    "embedding_model = HuggingFaceBgeEmbeddings(\n",
    "    model_name=\"../../bge-m3\",\n",
    "    encode_kwargs={\"normalize_embeddings\": True},\n",
    "    query_instruction=\"query: \"\n",
    ")"
   ]
  },
  {
   "cell_type": "code",
   "execution_count": null,
   "id": "82aeb767",
   "metadata": {},
   "outputs": [
    {
     "name": "stderr",
     "output_type": "stream",
     "text": [
      "C:\\Users\\habou\\AppData\\Local\\Temp\\ipykernel_45804\\2590460214.py:1: LangChainDeprecationWarning: The class `HuggingFaceBgeEmbeddings` was deprecated in LangChain 0.2.2 and will be removed in 1.0. An updated version of the class exists in the :class:`~langchain-huggingface package and should be used instead. To use it run `pip install -U :class:`~langchain-huggingface` and import as `from :class:`~langchain_huggingface import HuggingFaceEmbeddings``.\n",
      "  embedding_model = HuggingFaceBgeEmbeddings(\n"
     ]
    }
   ],
   "source": [
    "\"\"\"embedding_model = HuggingFaceBgeEmbeddings(\n",
    "    model_name=\"../../multilingual-e5-large\",\n",
    "    encode_kwargs={\"normalize_embeddings\": True},\n",
    "    query_instruction=\"query: \"\n",
    ")\"\"\""
   ]
  },
  {
   "cell_type": "code",
   "execution_count": null,
   "id": "c1ee4d27",
   "metadata": {},
   "outputs": [
    {
     "name": "stderr",
     "output_type": "stream",
     "text": [
      "[16:52:39.568] INFO - Création d'un index FAISS vide (dim = 1024)\n",
      "[16:52:39.784] INFO - Sauvegarde de l'index vide dans: ../../vectorstore/faiss_vectorestore_v2\n",
      "[16:52:39.788] INFO - Index vide (cosinus) créé avec succès.\n"
     ]
    },
    {
     "data": {
      "text/plain": [
       "<langchain_community.vectorstores.faiss.FAISS at 0x1578d404590>"
      ]
     },
     "execution_count": 40,
     "metadata": {},
     "output_type": "execute_result"
    }
   ],
   "source": [
    "\"\"\"index_path = \"../../vectorstore/faiss_vectorestore_v2\"\n",
    "create_vectorstore(embedding_model, index_path)\"\"\""
   ]
  },
  {
   "cell_type": "code",
   "execution_count": 3,
   "id": "90b60834",
   "metadata": {},
   "outputs": [],
   "source": [
    "pdf_files_list = [\"Renault DEU 2020.pdf\", \"Renault DEU 2021.pdf\", \"Renault URD 2022.pdf\", \"Renault URD 2023.pdf\", \"Renault 2024 Rapport d’activité.pdf\"]\n",
    "\n",
    "dict_ytb_videos_urls = {\n",
    "    \"PLAN STRATEGIQUE RENAULUTION\" : \"https://www.youtube.com/watch?app=desktop&v=EtivAvmDr2Q&t=901s\",\n",
    "    \"Conférence résultats financiers 2021 de Renault Group\" : \"https://www.youtube.com/watch?v=VfIeaIFSCQA\",\n",
    "    \"Conférence résultats financiers 2022 de Renault Group\" : \"https://www.youtube.com/watch?v=UWHlyjVtwT8\",\n",
    "    \"Conférence résultats financiers 2023 de Renault Group\" : \"https://www.youtube.com/watch?v=B57wephix-w\",\n",
    "    \"Conférence résultats financiers 2024 de Renault Group\" : \"https://www.youtube.com/watch?v=BA5ZOtWfpY0\",\n",
    "}"
   ]
  },
  {
   "cell_type": "code",
   "execution_count": null,
   "id": "88a76f13",
   "metadata": {},
   "outputs": [
    {
     "data": {
      "text/plain": [
       "'pdf_chunks = []\\nytb_chunks = []\\nCHUNK_SIZE = 450\\nOVERLAP = 64\\n\\nfor filename in (pdf_files_list) : \\n    file_path = os.path.join(folder_path, filename)\\n    pdf_chunks.extend(extract_and_split_pdf(file_path, CHUNK_SIZE, OVERLAP))\\n\\nfor video_name, url in dict_ytb_videos_urls.items() : \\n    ytb_chunks.extend(extract_and_split_ytb(url, video_name, CHUNK_SIZE, OVERLAP))\\n\\nall_chunks = pdf_chunks + ytb_chunks'"
      ]
     },
     "execution_count": 2,
     "metadata": {},
     "output_type": "execute_result"
    }
   ],
   "source": [
    "\"\"\"pdf_chunks = []\n",
    "ytb_chunks = []\n",
    "CHUNK_SIZE = 450\n",
    "OVERLAP = 64\n",
    "\n",
    "for filename in (pdf_files_list) : \n",
    "    file_path = os.path.join(folder_path, filename)\n",
    "    pdf_chunks.extend(extract_and_split_pdf(file_path, CHUNK_SIZE, OVERLAP))\n",
    "\n",
    "for video_name, url in dict_ytb_videos_urls.items() : \n",
    "    ytb_chunks.extend(extract_and_split_ytb(url, video_name, CHUNK_SIZE, OVERLAP))\n",
    "\n",
    "all_chunks = pdf_chunks + ytb_chunks\"\"\""
   ]
  },
  {
   "cell_type": "code",
   "execution_count": 4,
   "id": "f8311862",
   "metadata": {},
   "outputs": [],
   "source": [
    "CHUNK_SIZE = 150\n",
    "OVERLAP = 25\n",
    "folder_path = \"../../data\"\n",
    "markdown_folder = \"../../data/md_extracted\"\n",
    "pdf_chunks = []"
   ]
  },
  {
   "cell_type": "code",
   "execution_count": null,
   "id": "fe3b7938",
   "metadata": {},
   "outputs": [
    {
     "name": "stderr",
     "output_type": "stream",
     "text": [
      "[17:39:32.839] INFO - ========== Chargement du PDF : ../../data\\Renault DEU 2020.pdf =================\n"
     ]
    }
   ],
   "source": [
    "for filename in (pdf_files_list) : \n",
    "    file_path = os.path.join(folder_path, filename)\n",
    "    md_file_path = os.path.join(markdown_folder, filename.split('.')[0]+'.md')\n",
    "    pdf_chunks.extend(extract_and_split_pdf_v2(file_path, md_file_path, CHUNK_SIZE, OVERLAP))"
   ]
  },
  {
   "cell_type": "code",
   "execution_count": 3,
   "id": "80467f5e",
   "metadata": {},
   "outputs": [
    {
     "data": {
      "text/plain": [
       "'ytb_chunks = []\\nCHUNK_SIZE = 450\\nOVERLAP = 64\\n\\nfor video_name, url in dict_ytb_videos_urls.items() : \\n    ytb_chunks.extend(extract_and_split_ytb(url, video_name, CHUNK_SIZE, OVERLAP))'"
      ]
     },
     "execution_count": 3,
     "metadata": {},
     "output_type": "execute_result"
    }
   ],
   "source": [
    "\"\"\"ytb_chunks = []\n",
    "CHUNK_SIZE = 450\n",
    "OVERLAP = 64\n",
    "\n",
    "for video_name, url in dict_ytb_videos_urls.items() : \n",
    "    ytb_chunks.extend(extract_and_split_ytb(url, video_name, CHUNK_SIZE, OVERLAP))\"\"\""
   ]
  },
  {
   "cell_type": "code",
   "execution_count": null,
   "id": "f858f925",
   "metadata": {},
   "outputs": [],
   "source": [
    "\"\"\"index_documents(ytb_chunks, embedding_model, \"../../vectorstore/faiss_vectorestore\")\"\"\""
   ]
  },
  {
   "cell_type": "code",
   "execution_count": 15,
   "id": "698421ad",
   "metadata": {},
   "outputs": [
    {
     "data": {
      "text/plain": [
       "'pdf_chunks = extract_and_split_pdf(file_path, 450, 64)\\nytb_chunks = extract_and_split_ytb(\"https://www.youtube.com/watch?v=VfIeaIFSCQA\", 450, 64)'"
      ]
     },
     "execution_count": 15,
     "metadata": {},
     "output_type": "execute_result"
    }
   ],
   "source": [
    "\"\"\"pdf_chunks = extract_and_split_pdf(file_path, 450, 64)\n",
    "ytb_chunks = extract_and_split_ytb(\"https://www.youtube.com/watch?v=VfIeaIFSCQA\", 450, 64)\"\"\""
   ]
  },
  {
   "cell_type": "code",
   "execution_count": null,
   "id": "6582cace",
   "metadata": {},
   "outputs": [],
   "source": [
    "\"\"\"import pickle\n",
    "\n",
    "with open(\"../../vectorstore/documents.pkl\", \"wb\") as f:\n",
    "    pickle.dump(pdf_chunks, f)\"\"\""
   ]
  },
  {
   "cell_type": "code",
   "execution_count": null,
   "id": "ac3c7103",
   "metadata": {},
   "outputs": [],
   "source": [
    "\"\"\"vectorstore = FAISS.load_local(index_path, embedding_model, allow_dangerous_deserialization=True)\n",
    "retriever = vectorstore.as_retriever()\n",
    "retriever.get_relevant_documents(\"(Board of Management - BoM)\", k=10)\"\"\""
   ]
  },
  {
   "cell_type": "code",
   "execution_count": null,
   "id": "72e49957",
   "metadata": {},
   "outputs": [],
   "source": [
    "\"\"\"lexical_retriever = BM25Retriever.from_documents(pdf_chunks)\n",
    "lexical_retriever.k = 3\n",
    "lexical_retriever.get_relevant_documents(\"Identify the members of the board of directors in 2021.\")\"\"\""
   ]
  },
  {
   "cell_type": "code",
   "execution_count": 30,
   "id": "e6d9f3af",
   "metadata": {},
   "outputs": [],
   "source": [
    "file_path = \"../../data/pdf_test.pdf\"\n",
    "md_path = \"./extrait_renault.md\""
   ]
  },
  {
   "cell_type": "code",
   "execution_count": null,
   "id": "bfcb3c9a",
   "metadata": {},
   "outputs": [
    {
     "name": "stderr",
     "output_type": "stream",
     "text": [
      "[17:14:12.344] INFO - Chargement du PDF : ../../data/pdf_test.pdf\n",
      "c:\\Users\\habou\\miniconda3\\envs\\genai\\Lib\\site-packages\\torch\\utils\\data\\dataloader.py:665: UserWarning: 'pin_memory' argument is set as true but no accelerator is found, then device pinned memory won't be used.\n",
      "  warnings.warn(warn_msg)\n",
      "c:\\Users\\habou\\miniconda3\\envs\\genai\\Lib\\site-packages\\torch\\utils\\data\\dataloader.py:665: UserWarning: 'pin_memory' argument is set as true but no accelerator is found, then device pinned memory won't be used.\n",
      "  warnings.warn(warn_msg)\n",
      "[17:15:02.160] INFO - Markdown sauvegardé dans : ./extrait_renault.md\n",
      "[17:15:02.163] INFO - Découpage initial du markdown en sections...\n",
      "[17:15:02.164] INFO - 29 sections initialement détectées.\n",
      "[17:15:02.165] INFO - 19 sections finales après fusion.\n",
      "[17:15:02.166] INFO - Début du découpage par section avec gestion des tables...\n",
      "[17:15:02.167] INFO - Texte découpé en 1 chunk(s).\n",
      "[17:15:02.168] INFO - Texte découpé en 1 chunk(s).\n",
      "[17:15:02.169] INFO - Texte découpé en 1 chunk(s).\n",
      "[17:15:02.169] INFO - Texte découpé en 1 chunk(s).\n",
      "[17:15:02.170] INFO - Texte découpé en 1 chunk(s).\n",
      "[17:15:02.172] INFO - Texte découpé en 2 chunk(s).\n",
      "[17:15:02.172] INFO - 1 table(s) détectée(s).\n",
      "[17:15:02.173] INFO - Texte découpé en 2 chunk(s).\n",
      "[17:15:02.174] INFO - 1 table(s) détectée(s).\n",
      "[17:15:02.175] INFO - Texte découpé en 1 chunk(s).\n",
      "[17:15:02.176] INFO - 1 table(s) détectée(s).\n",
      "[17:15:02.177] INFO - Texte découpé en 1 chunk(s).\n",
      "[17:15:02.178] INFO - Texte découpé en 1 chunk(s).\n",
      "[17:15:02.180] INFO - Texte découpé en 1 chunk(s).\n",
      "[17:15:02.181] INFO - 1 table(s) détectée(s).\n",
      "[17:15:02.182] INFO - Texte découpé en 1 chunk(s).\n",
      "[17:15:02.183] INFO - Texte découpé en 2 chunk(s).\n",
      "[17:15:02.185] INFO - Texte découpé en 4 chunk(s).\n",
      "[17:15:02.187] INFO - Texte découpé en 2 chunk(s).\n",
      "[17:15:02.188] INFO - Texte découpé en 4 chunk(s).\n",
      "[17:15:02.189] INFO - Texte découpé en 3 chunk(s).\n",
      "[17:15:02.190] INFO - Texte découpé en 3 chunk(s).\n",
      "[17:15:02.191] INFO - Total des chunks générés : 36\n"
     ]
    }
   ],
   "source": [
    "chunks = extract_and_split_pdf_v2(file_path, md_path, 150, 20)"
   ]
  },
  {
   "cell_type": "code",
   "execution_count": 57,
   "id": "a4266369",
   "metadata": {},
   "outputs": [
    {
     "data": {
      "text/plain": [
       "[\"## Présentation du Conseil d'administration\\nAu 1 er mars 2021 ADMINISTRATEURS représentant les salariés Éric PERSONNE Richard GENTIL ADMINISTRATEUR représentant les salariés actionnaires ADMINISTRATEUR en qualité de représentant de l'État français Frédéric BARRAT Benoît OSTERTAG Martin VIAL ADMINISTRATEUR élu par l'Assemblée générale sur proposition de l'État français Jean-Dominique SENARD Président du Conseil ADMINISTRATEURS 58,5 ÂGE MOYEN NATIONALITÉS Thomas COURBE\",\n",
       " \"## Les comités spécialisés\\nADMINISTRATEURS élus par l'Assemblée générale sur proposition de Nissan Yu SERIZAWA Pierre FLEURIOT* 4,3 66,7% (1) ANCIENNETÉ INDÉPENDANCE dont 3 présidentes de comités Patrick THOMAS Marie-Annick DARMAILLAC Joji TAGAWA ADMINISTRATEURS INDÉPENDANTS élus par l'Assemblée générale des actionnaires Pascale SOURISSE Catherine BARBA Miriem BENSALAH CHAQROUN Annette WINKLER * Administrateur référent Comité de L'ÉTHIQUE ET DE LA RSE (1) Hors administrateurs représentant les salariés et administrateur représentant les salariés actionnaires, mais incluant M. Jean-Dominique Senard. - (2) Hors administrateurs représentant les salariés et administrateur représentant les salariés actionnaires. Cartographie des compétences du Conseil d'administration\",\n",
       " '## EXPÉRIENCE INTERNATIONALE 7\\nM me Winkler, MM. Barrat, Gentil, Ostertag, Personne, Senard, Tagawa ET INNOVATION M mes Barba, Sourisse, M. Senard',\n",
       " \"## EXPÉRIENCE DE DIRECTION GÉNÉRALE D'ENTREPRISES\\nM mes Sourisse, Winkler, MM. Courbe, Fleuriot, Ostertag, Personne, Senard, Tagawa, Thomas, Vial M mes Barba, Bensalah-Chaqroun, Serizawa, Sourisse, Winkler, MM. Senard, Tagawa\",\n",
       " \"## Travaux du Conseil d'administration\\nGouvernance et Comité exécutif Groupe ( BoM ) - STRATÉGIE - GOUVERNANCE - RÉMUNÉRATION M mes Bensalah-Chaqroun, Sourisse, Serizawa, Winkler, MM. Fleuriot, Senard, Thomas\",\n",
       " \"## Présentation du Comité exécutif Groupe (Board of Management - BoM)\\nM mes Bensalah-Chaqroun, Darmaillac, Serizawa, MM. Ostertag, Senard, Tagawa 1. Luca de Meo , Directeur général de Renault S.A., Président de Renault s.a.s. et Directeur général de la marque Renault 2. Clotilde Delbos , Directeur général adjoint, Directeur financier, Groupe Renault, Président du conseil d'administration de RCI Banque et Directeur général de la marque Nouvelles Mobilités (MobiliZe) 3. Jose Vicente de los Mozos , Directeur industrie, Groupe Renault 4. Philippe Guérin-Boutaud , Directeur qualité, Groupe Renault 5. Ali Kassai , Directeur du produit avancé et des programmes, Groupe Renault 6. Gilles Le Borgne , Directeur de l'ingénierie, Groupe Renault 7.\",\n",
       " \"## Présentation du Comité exécutif Groupe (Board of Management - BoM)\\nDenis Le Vot , Directeur général des marques Dacia &amp; Lada 8. Nicolas Maure , Chief Turnaround Officer, Groupe Renault 9. François Roger , Directeur des ressources humaines, de la prévention et de la protection, de l'immobilier, des services généraux, de l'hygiène-sécurité-environnement, de la transformation et de l'organisation, Directeur des ressources humaines marque Renault 10. Véronique Sarlat-Depotte , Directeur Alliance Purchasing Organization (APO) 11. Laurens van den Acker , Directeur design, Groupe Renault 12. Frédéric Vincent , Directeur systèmes et technologies d'information, digital, Groupe Renault, Directeur des systèmes d'information de la marque Renault NATIONALITÉS\",\n",
       " \"## PRINCIPAUX CHIFFRES CONSOLIDÉS SUR TROIS ANS - DONNÉES PUBLIÉES (1)\\n- (1) Ces données sont communiquées pour information telles qu'elles ont été publiées, mais elles ne sont pas toujours directement comparables d'une année sur l'autre, car elles peuvent intégrer des écarts de périmètre et/ou d'évolution de traitement comptable. Cf. chapitre 4 note 3 de l'annexe aux comptes consolidés. - (2) Le Conseil d'administration du 13 février 2020 avait proposé le versement de 1,10 euro par action au titre de l'exercice 2019. Le Conseil d'administration de Renault du 9 avril 2020 a décidé de ne plus proposer la distribution de ce dividende, ce qui a été approuvé par l'Assemblée générale du\",\n",
       " \"## PRINCIPAUX CHIFFRES CONSOLIDÉS SUR TROIS ANS - DONNÉES PUBLIÉES (1)\\n19 juin 2020 (3 e résolution). 3. (3)LeConseil d'administration proposera à l'Assemblée Générale des actionnaires, prévue le 23 avril 2021, de ne pas verser de dividende au titre de 2020.\",\n",
       " \"## PRINCIPAUX CHIFFRES CONSOLIDÉS SUR TROIS ANS - DONNÉES PUBLIÉES (1)\\n| (en millions d'euros) | 2020 | 2019 | 2018 |\\n|---------------------------------------------------------------|-------------------------------|-------------------------------|-------------------------------|\\n| Chiffre d'affaires | 43 474 | 55 537 | 57 419 |\\n| Marge opérationnelle | -337 | 2 662 | 3 612 |\\n| Part dans le résultat de Nissan Motors | -4 970 | 242 | 1 509 |\\n| Résultat net - part du Groupe | -8 008 | -141 | 3 302 |\\n| Résultat net par action (en euros) | -29,51 | -0,52 | 12,24 |\\n| Capital | 1 127 | 1 127 | 1 127 |\\n| Capitaux propres | 25 338 | 35 331 | 36 145 |\\n| Total de bilan | 115 737 | 122 171 | 114 996 |\\n| Dividende (en euros) | 0,0 (3) | 0,0 (2) | 3,55 |\\n| Position nette de liquidité de l'Automobile y compris AVTOVAZ | -3 579 | 1 734 | 3 702 |\\n| Free cash flow opérationnel y compris AVTOVAZ | -4 551 | 153 | 607 |\\n| Effectif total au 31/12/2020 | 170 158 (dont 44 415 AVTOVAZ) | 179 565 (dont 46 327 AVTOVAZ) | 183 002 (dont 48 678 AVTOVAZ) |\",\n",
       " '## MARGE OPÉRATIONNELLE PAR ACTIVITÉ\\n- (1) Nouveau segment à compter du 01/01/2020.',\n",
       " \"## MARGE OPÉRATIONNELLE PAR ACTIVITÉ\\n| (en millions d'euros) | 2020 | 2019 | Variation |\\n|--------------------------------|--------|--------|-------------|\\n| Marge opérationnelle Groupe | -337 | 2 662 | - 2 999 |\\n| %Chiffre d'affaires Groupe | -0,8% | 4,8% | - 5,6 pts |\\n| dont Automobile hors AVTOVAZ | -1 450 | 1 284 | -2 734 |\\n| %Chiffre d'affaires du segment | -3,8% | 2,6% | - 6,5 pts |\\n| dont AVTOVAZ | 141 | 155 | -14 |\\n| %Chiffre d'affaires du segment | 5,5% | 5,0% | + 0,5 pt |\\n| dont Financement des ventes | 1 007 | 1 223 | -216 |\\n| dont Services de Mobilité (1) | -35 | - | - 35 |\",\n",
       " \"## CHIFFRE D'AFFAIRES PAR ACTIVITÉ\\n- (1) Y compris les ventes de Jinbei &amp; Huasong. - (2) Nouveau segment à compter du 01/01/2020.\",\n",
       " \"## CHIFFRE D'AFFAIRES PAR ACTIVITÉ\\n| (en millions d'euros) | 2020 | 2019 | Variation |\\n|----------------------------------------|-----------|-----------|-------------|\\n| IMMATRICULATIONS MONDE (1) (En unités) | 2 951 971 | 3 749 736 | -21,3 |\\n| CHIFFRE D'AFFAIRES GROUPE | 43 474 | 55 537 | -21,7 |\\n| dont Automobile hors AVTOVAZ | 37 736 | 49 002 | -23,0 |\\n| dont AVTOVAZ | 2 581 | 3 130 | -17,5 |\\n| dont Financement des ventes | 3 138 | 3 405 | -7,8 |\\n| dont Services de Mobilité (2) | 19 | - | N/A |\",\n",
       " '## LE GROUPE RENAULT\\nPRÉSENTATION DE RENAULT ET DU GROUPE',\n",
       " \"## RÉPARTITION DES DROITS DE VOTE EXERÇABLES (1) EN %\\n- part des titres détenus par les salariés et anciens salariés pris en (*) compte dans cette catégorie correspond aux actions détenues dans des FCPE ainsi qu'aux actions nominatives détenues directement par les bénéficiaires d'attributions gratuites d'actions à compter du plan d'attribution de 2016. Voir chapitre 5.2.6.1. (1)\",\n",
       " '## Ventes mondiales (1)\\nEn volume et en %duMTMVP+VU,incluant Renault, Dacia, Renault Samsung Motors, Alpine, Lada et Jinbei &amp; Huasong. - (1) Chiffres provisoires. - (2) Dont ventes de Jinbei, Huasong &amp; Shineray. PRÉSENTATION DE RENAULT ET DU GROUPE',\n",
       " '## Ventes mondiales (1)\\n| | | Ventes | Part de marché (en %) |\\n|----|-----------------------|----------|-------------------------|\\n| 1 | France | 535 591 | 26,1 |\\n| 2 | Russie | 480 742 | 30,1 |\\n| 3 | Allemagne | 204 933 | 6,4 |\\n| 4 | Chine (2) | 156 316 | 0,7 |\\n| 5 | Italie | 154 882 | 10,1 |\\n| 6 | Turquie | 132 471 | 17,1 |\\n| 7 | Brésil | 131 467 | 6,8 |\\n| 8 | Espagne + Canaries | 123 638 | 12,2 |\\n| 9 | Corée du Sud | 95 939 | 5,2 |\\n| 10 | Inde | 80 518 | 2,8 |\\n| 11 | Royaume-Uni | 74 512 | 3,9 |\\n| 12 | Belgique + Luxembourg | 65 924 | 11,8 |\\n| 13 | Roumanie | 59 180 | 40,5 |\\n| 14 | Maroc | 54 730 | 41,1 |\\n| 15 | Pologne | 52 188 | 10,7 |',\n",
       " \"## Stratégie\\nLes activités du Groupe sont réparties en trois types d'activités opérationnelles, dans 134 pays : - l 'Automobile , avec la conception, la fabrication et la distribution P de produits via son réseau commercial (entre autres, par sa filiale Renault Retail Group) : - les véhicules neufs avec plusieurs gammes (VP, VU et VE P [exclusivement Renault]) sous cinq marques : Renault, Dacia, Renault Samsung Motors, Alpine et Lada. Des véhicules fabriqués par Dacia et RSM peuvent être vendus sous la marque Renault en fonction des pays, - les véhicules d'occasion et les pièces de rechange, P - la gamme\",\n",
       " '## Stratégie\\nmécanique Renault, activité B-to-B ; P - le Financement des ventes (le groupe RCI Banque et ses filiales) P financement des ventes, location, entretien et contrats de service ; - les Services de Mobilité qui réunissent, sous la holding Renault P M.A.I. créée en octobre 2019, les activités de service dans les nouvelles mobilités. Par ailleurs, deux participations sont à noter : - la participation de Renault dans Nissan ; P - la participation de Renault dans AVTOVAZ. P La participation dans Nissan est mise en équivalence dans les comptes du Groupe, celle dans AVTOVAZ est consolidée par intégration globale.',\n",
       " \"## STRUCTURE DU GROUPE RENAULT\\n- (1) Comprend des coentreprises et filiales avec minoritaires. À la suite de l'approbation du Conseil d'administration, Luca de Meo, CEO du Groupe Renault, a présenté le 14 janvier 2021 Renaulution, un nouveau plan stratégique qui vise à réorienter la stratégie du Groupe Renault de la course au volume à la création de valeur. Ce plan stratégique est structuré en trois phases lancées en parallèle : - la phase « Résurrection » , qui s'étendra jusqu'en 2023, se P concentrera sur le redressement de la marge et de la génération de liquidités ; - la phase « Rénovation » ,\",\n",
       " \"## STRUCTURE DU GROUPE RENAULT\\nqui se poursuivra jusqu'en 2025, verra le P renouvellement et l'enrichissement des gammes, contribuant à la rentabilité des marques ; - la phase « Révolution » , qui démarrera en 2025, fera basculer le P modèle économique du Groupe vers la technologie, l'énergie et la mobilité, faisant du Groupe Renault un précurseur dans la chaîne de valeur des nouvelles mobilités. Le plan Renaulution permettra de restaurer la compétitivité du Groupe Renault en : - allant au-delà du « plan 2o22 » (1) , en améliorant l'efficacité de P l'ingénierie et de la production, pour réduire les coûts fixes et améliorer\",\n",
       " \"## STRUCTURE DU GROUPE RENAULT\\nles coûts variables dans le monde ; - tirant parti des atouts industriels actuels du Groupe et de son P leadership électrique en Europe ; - s'appuyant sur l'Alliance pour accroître notre force de frappe en P termes de produits, d'activités et de technologies ; - accélérant les services de mobilité, ceux dédiés à l'énergie et ceux P relatifs aux data ; - améliorant la rentabilité via quatre Business Units différenciées, P fondées sur des marques pleinement responsables, centrées sur les clients et les marchés. Une nouvelle organisation mettra en œuvre ce plan : - les fonctions , avec l'ingénierie\",\n",
       " \"## STRUCTURE DU GROUPE RENAULT\\nau premier plan, sont responsables P de la compétitivité, des coûts et du délai de mise sur le marché ; - les marques pleinement responsables, gèrent leur rentabilité. P En cohérence avec cette organisation axée sur la valeur, l'entreprise ne mesurera plus ses performances au travers des parts de marché et des ventes, mais en fonction de la rentabilité, la génération de liquidités et l'efficacité des investissements.\",\n",
       " \"## LE GROUPE RENAULT\\nPRÉSENTATION DE RENAULT ET DU GROUPE Le Groupe se fixe de nouveaux objectifs financiers : - d'ici à 2023, le Groupe vise à atteindre plus de 3 % de marge P opérationnelle Groupe, environ 3 milliards d'euros de free cash flow (1) opérationnel de l'Automobile cumulé (2021-23) et à réduire les investissements et dépenses de R&amp;D à environ 8 % du chiffre d'affaires ; - d'ici à 2025, le Groupe vise une marge opérationnelle Groupe d'au P moins 5 %, environ 6 milliards d'euros de free cash flow opérationnel de l'Automobile cumulé (2) (2021-25), et un ROCE (2) en hausse\",\n",
       " \"## LE GROUPE RENAULT\\nd'au moins 15 points par rapport à 2019. Le plan Renaulution assurera une rentabilité durable du Groupe tout en respectant son engagement de neutralité carbone en Europe d'ici 2050.\",\n",
       " \"## Le Plan Renaulution inclut les principaux éléments suivants :\\n- Accélérer l'efficacité des fonctions , qui seront responsables de la 1. compétitivité, des coûts, du délai de développement et de mise sur le marché. - Renforcer l'efficacité, la rapidité et la performance de P l'ingénierie et de la production, accélérée par l'Alliance : - rationalisation des plateformes de 6 à 3 (avec 80 % des P volumes du Groupe sur trois plateformes de l'Alliance) et des groupes motopropulseurs (de 8 à 4 familles), - tous les modèles qui seront lancés sur les plateformes P existantes seront mis sur le marché en moins de 3 ans, - redimensionnement de la\",\n",
       " \"## Le Plan Renaulution inclut les principaux éléments suivants :\\ncapacité industrielle de 4 millions P d'unités en 2019 à 3,1 millions d'unités en 2025 (référence Harbour), - efficacité accrue avec les fournisseurs ; P - orienter la présence internationale du Groupe vers les marchés P à fortes marges : notamment en Amérique latine, en Inde et en Corée, tout en tirant parti de notre compétitivité en Espagne, au Maroc, en Roumanie, en Turquie et créant davantage de synergies avec la Russie ; - imposer une discipline stricte en matière de coûts : P - réduction des coûts fixes : le « plan 2o22 », achevé en avance P de\",\n",
       " \"## Le Plan Renaulution inclut les principaux éléments suivants :\\nphase, étendu à 2023 pour atteindre -2,5 milliards d'euros, et un objectif de -3 milliards d'euros d'ici à 2025 (y compris la variabilisation des coûts fixes), - coûts variables : 600 euros d'amélioration par véhicule (3) d'ici P 2023, - réduction des investissements et dépenses de R&amp;D d'environ P 10 % du chiffre d'affaires à moins de 8 % en 2025. Tous ces efforts renforceront la résilience du Groupe et réduiront son point mort de 30 % d'ici 2023. 24 lancements d'ici 2025 - dont la moitié dans les segments C/D et au moins 10 véhicules électriques. Cette nouvelle organisation\",\n",
       " \"## Le Plan Renaulution inclut les principaux éléments suivants :\\naxée sur la valeur et cette offensive produits permettront d'améliorer les prix et le mix produits.\",\n",
       " \"## Renault, La Nouvelle Vague\\nLa marque incarnera la modernité et l'innovation au sein et au-delà de l'industrie automobile dans les services énergétiques, technologiques et de mobilité par exemple. Dans le cadre de sa stratégie, la marque relèvera son mix de segments grâce à une offensive sur le segment C et renforcera ses positions en Europe, tout en se concentrant sur les segments et les canaux rentables sur des marchés clés tels que l'Amérique latine et la Russie. La marque s'appuiera sur nos solides atouts : - leader dans l'électrification d'ici 2025 avec un « Électro pôle » P potentiellement dans le nord de la\",\n",
       " \"## Renault, La Nouvelle Vague\\nFrance, la plus grande capacité de fabrication de véhicules électriques du Groupe au monde : - une joint-venture hydrogène pour les véhicules à pile à P combustible, - le mix produits le plus « vert » d'Europe, P - la moitié des lancements en Europe seront des véhicules P électriques, ayant une plus forte contribution à la marge que les véhicules thermiques (en euros), - challenger sur le marché des hybrides avec 35 % de mix ; P - assembleur d'écosystèmes high-tech : devenir un acteur des P technologies clés, du big data à la cybersécurité, avec la « Software\",\n",
       " \"## Renault, La Nouvelle Vague\\nRépublique » ; - leader dans l'économie circulaire avec des services dédiés aux P véhicules électriques et à l'énergie grâce à la Re-Factory à Flins (France).\",\n",
       " \"## Dacia-Lada, Tout. Simplement\\nDacia, qui reste Dacia avec une touche de fraicheur et Lada, toujours robuste et solide, continueront à proposer des produits abordables, basés sur des technologies éprouvées et destinés aux acheteurs cherchant l'achat malin, tout en allant sur le segment C. - Des modèles économiques très efficaces : P - design-to-cost, P - efficacité : de 4 plateformes à 1 ; de 18 types de carrosserie à 11, P permettant d'atteindre en moyenne 1,1 million d'unités par plateforme contre 0,3 million d'unités ; - L'apparition d'une nouvelle gamme de produits compétitifs et P arrivée dans le segment C : - 7\",\n",
       " \"## Dacia-Lada, Tout. Simplement\\nmodèles lancés d'ici 2025, dont 2 dans le segment C, P - Doter les quatre Business Units d'une identité et d'un 2. positionnement forts. Cette nouvelle organisation permettra de créer un portefeuille de produits rééquilibré et plus rentable avec - rétablissement de modèles emblématiques, P - efficacité CO 2 : exploitation des actifs technologiques du Groupe P (GPL pour les deux marques, E-TECH pour Dacia). - Free cash-flow opérationnel du secteur automobile : flux de trésorerie après intérêts et impôts (hors dividendes reçus de sociétés cotées en (1) Bourse) moins investissements corporels et incorporels nets de cessions +/- variation du\",\n",
       " \"## Dacia-Lada, Tout. Simplement\\nbesoin en fonds de roulement. - ROCE= Auto Operating Profit (incl. AVTOVAZ) × (1 - taux d'imposition moyen) / (PP&amp;E + actifs incorporels + actifs financiers (2) investissements dans RCI/Nissan/ Daimler + besoin en fonds de roulement). - À iso-mix. (3)\"]"
      ]
     },
     "execution_count": 57,
     "metadata": {},
     "output_type": "execute_result"
    }
   ],
   "source": [
    "(chunks)"
   ]
  },
  {
   "cell_type": "code",
   "execution_count": 58,
   "id": "cd6b9658",
   "metadata": {},
   "outputs": [],
   "source": [
    "chunk_text = \"\"\"\" \"## Dacia-Lada, Tout. Simplement\\nDacia, qui reste Dacia avec une touche de fraicheur et Lada, toujours robuste et solide, continueront à proposer des produits abordables, basés sur des technologies éprouvées et destinés aux acheteurs cherchant l'achat malin, tout en allant sur le segment C. - Des modèles économiques très efficaces : P - design-to-cost, P - efficacité : de 4 plateformes à 1 ; de 18 types de carrosserie à 11, P permettant d'atteindre en moyenne 1,1 million d'unités par plateforme contre 0,3 million d'unités ; - L'apparition d'une nouvelle gamme de produits compétitifs et P arrivée dans le segment C : - 7\",\n",
    "\"\"\""
   ]
  },
  {
   "cell_type": "code",
   "execution_count": 59,
   "id": "97d9e843",
   "metadata": {},
   "outputs": [
    {
     "name": "stdout",
     "output_type": "stream",
     "text": [
      "189\n",
      "[1, 330, 567, 423, 28139, 8288, 2649, 11, 80905, 13, 4567, 2833, 198, 35, 28139, 11, 7930, 66167, 423, 28139, 9952, 6316, 15119, 1557, 409, 6816, 12333, 324, 1880, 445, 2649, 11, 44093, 22514, 68, 1880, 2092, 579, 11, 2018, 8977, 546, 3869, 10045, 261, 951, 54021, 671, 541, 4893, 11, 3122, 5512, 1765, 951, 14645, 50510, 583, 85, 14014, 1880, 52087, 5512, 10253, 34361, 7870, 1759, 23008, 11943, 326, 6, 97264, 8811, 258, 11, 16968, 665, 682, 519, 1765, 514, 10449, 356, 13, 482, 3959, 1491, 85798, 82653, 8467, 25945, 31914, 2492, 551, 393, 482, 2955, 4791, 41238, 11, 393, 482, 31914, 582, 13109, 551, 409, 220, 19, 12235, 630, 288, 3869, 220, 16, 2652, 409, 220, 972, 4595, 409, 1841, 2177, 27197, 3869, 220, 806, 11, 393, 29557, 61512, 294, 6, 63734, 71933, 665, 52138, 26193, 220, 16, 11, 16, 3610, 294, 6, 3928, 5512, 1370, 12235, 76701, 45973, 220, 15, 11, 18, 3610, 294, 6, 3928, 5512, 2652, 482, 445, 53149, 277, 684, 294, 31109, 48659, 9192, 2727, 409, 54021, 75332, 275, 22589, 1880, 393, 69003, 8047, 7010, 514, 10449, 356, 551, 482, 220, 22, 761]\n"
     ]
    }
   ],
   "source": [
    "from tiktoken import get_encoding\n",
    "\n",
    "def count_tokens(text: str, model_name: str = \"cl100k_base\") -> int:\n",
    "    encoding = get_encoding(model_name)\n",
    "    return encoding.encode(text)\n",
    "\n",
    "# Exemple :\n",
    "tokens = count_tokens(chunk_text)\n",
    "print(len(tokens))\n",
    "print(tokens)\n",
    "\n"
   ]
  },
  {
   "cell_type": "code",
   "execution_count": 61,
   "id": "5d18638d",
   "metadata": {},
   "outputs": [
    {
     "data": {
      "text/plain": [
       "105"
      ]
     },
     "execution_count": 61,
     "metadata": {},
     "output_type": "execute_result"
    }
   ],
   "source": [
    "len(chunk_text.split())"
   ]
  }
 ],
 "metadata": {
  "kernelspec": {
   "display_name": "genai",
   "language": "python",
   "name": "python3"
  },
  "language_info": {
   "codemirror_mode": {
    "name": "ipython",
    "version": 3
   },
   "file_extension": ".py",
   "mimetype": "text/x-python",
   "name": "python",
   "nbconvert_exporter": "python",
   "pygments_lexer": "ipython3",
   "version": "3.13.2"
  }
 },
 "nbformat": 4,
 "nbformat_minor": 5
}
