{
 "cells": [
  {
   "cell_type": "code",
   "execution_count": 1,
   "id": "2fcf11ab",
   "metadata": {},
   "outputs": [
    {
     "name": "stderr",
     "output_type": "stream",
     "text": [
      "c:\\Users\\habou\\miniconda3\\envs\\genai\\Lib\\site-packages\\tqdm\\auto.py:21: TqdmWarning: IProgress not found. Please update jupyter and ipywidgets. See https://ipywidgets.readthedocs.io/en/stable/user_install.html\n",
      "  from .autonotebook import tqdm as notebook_tqdm\n"
     ]
    }
   ],
   "source": [
    "from langchain_community.embeddings import HuggingFaceBgeEmbeddings\n",
    "from tqdm import tqdm\n",
    "from pdf_ingestor import extract_and_split_pdf\n",
    "from ytb_ingestor import extract_and_split_ytb\n",
    "from vectorstore import index_documents, index_documents_v2, create_vectorstore\n",
    "from langchain_community.vectorstores import FAISS\n",
    "from langchain_community.retrievers import BM25Retriever\n",
    "import os \n",
    "from logger import get_logger\n",
    "logger = get_logger()"
   ]
  },
  {
   "cell_type": "code",
   "execution_count": 2,
   "id": "27a0fff5",
   "metadata": {},
   "outputs": [
    {
     "name": "stderr",
     "output_type": "stream",
     "text": [
      "C:\\Users\\habou\\AppData\\Local\\Temp\\ipykernel_25636\\961953646.py:1: LangChainDeprecationWarning: The class `HuggingFaceBgeEmbeddings` was deprecated in LangChain 0.2.2 and will be removed in 1.0. An updated version of the class exists in the :class:`~langchain-huggingface package and should be used instead. To use it run `pip install -U :class:`~langchain-huggingface` and import as `from :class:`~langchain_huggingface import HuggingFaceEmbeddings``.\n",
      "  embedding_model = HuggingFaceBgeEmbeddings(\n"
     ]
    }
   ],
   "source": [
    "embedding_model = HuggingFaceBgeEmbeddings(\n",
    "    model_name=\"../../bge-m3\",\n",
    "    encode_kwargs={\"normalize_embeddings\": True},\n",
    "    query_instruction=\"query: \"\n",
    ")"
   ]
  },
  {
   "cell_type": "code",
   "execution_count": null,
   "id": "c1ee4d27",
   "metadata": {},
   "outputs": [
    {
     "name": "stderr",
     "output_type": "stream",
     "text": [
      "[20:14:17.946] INFO - Création d'un index FAISS vide (dim = 1024)\n",
      "[20:14:18.053] INFO - Sauvegarde de l'index vide dans: ../../vectorstore/faiss_vectorestore_v2\n",
      "[20:14:18.055] INFO - Index vide (cosinus) créé avec succès.\n"
     ]
    },
    {
     "data": {
      "text/plain": [
       "<langchain_community.vectorstores.faiss.FAISS at 0x1bab7c4b230>"
      ]
     },
     "execution_count": 9,
     "metadata": {},
     "output_type": "execute_result"
    }
   ],
   "source": [
    "\"\"\"index_path = \"../../vectorstore/faiss_vectorestore\"\n",
    "create_vectorstore(embedding_model, index_path)\"\"\""
   ]
  },
  {
   "cell_type": "code",
   "execution_count": 3,
   "id": "90b60834",
   "metadata": {},
   "outputs": [],
   "source": [
    "\n",
    "dict_ytb_videos_urls = {\n",
    "    \"PLAN STRATEGIQUE RENAULUTION\" : \"https://www.youtube.com/watch?app=desktop&v=EtivAvmDr2Q&t=901s\",\n",
    "    \"Conférence résultats financiers 2021 de Renault Group\" : \"https://www.youtube.com/watch?v=VfIeaIFSCQA\",\n",
    "    \"Conférence résultats financiers 2022 de Renault Group\" : \"https://www.youtube.com/watch?v=UWHlyjVtwT8\",\n",
    "    \"Conférence résultats financiers 2023 de Renault Group\" : \"https://www.youtube.com/watch?v=B57wephix-w\",\n",
    "    \"Conférence résultats financiers 2024 de Renault Group\" : \"https://www.youtube.com/watch?v=BA5ZOtWfpY0\",\n",
    "}"
   ]
  },
  {
   "cell_type": "code",
   "execution_count": null,
   "id": "88a76f13",
   "metadata": {},
   "outputs": [
    {
     "data": {
      "text/plain": [
       "'pdf_chunks = []\\nytb_chunks = []\\nCHUNK_SIZE = 450\\nOVERLAP = 64\\n\\nfor filename in (pdf_files_list) : \\n    file_path = os.path.join(folder_path, filename)\\n    pdf_chunks.extend(extract_and_split_pdf(file_path, CHUNK_SIZE, OVERLAP))\\n\\nfor video_name, url in dict_ytb_videos_urls.items() : \\n    ytb_chunks.extend(extract_and_split_ytb(url, video_name, CHUNK_SIZE, OVERLAP))\\n\\nall_chunks = pdf_chunks + ytb_chunks'"
      ]
     },
     "execution_count": 2,
     "metadata": {},
     "output_type": "execute_result"
    }
   ],
   "source": [
    "\"\"\"pdf_chunks = []\n",
    "ytb_chunks = []\n",
    "CHUNK_SIZE = 450\n",
    "OVERLAP = 64\n",
    "\n",
    "for filename in (pdf_files_list) : \n",
    "    file_path = os.path.join(folder_path, filename)\n",
    "    pdf_chunks.extend(extract_and_split_pdf(file_path, CHUNK_SIZE, OVERLAP))\n",
    "\n",
    "for video_name, url in dict_ytb_videos_urls.items() : \n",
    "    ytb_chunks.extend(extract_and_split_ytb(url, video_name, CHUNK_SIZE, OVERLAP))\n",
    "\n",
    "all_chunks = pdf_chunks + ytb_chunks\"\"\""
   ]
  },
  {
   "cell_type": "markdown",
   "id": "500dd420",
   "metadata": {},
   "source": [
    "### Ingestion PDF"
   ]
  },
  {
   "cell_type": "code",
   "execution_count": null,
   "id": "f8311862",
   "metadata": {},
   "outputs": [],
   "source": [
    "\"\"\"CHUNK_SIZE = 150\n",
    "OVERLAP = 25\n",
    "folder_path = \"../../data\"\n",
    "markdown_folder = \"../../data/md_extracted\"\n",
    "pdf_files_list = [\"Renault DEU 2020.pdf\", \"Renault DEU 2021.pdf\", \"Renault URD 2022.pdf\", \"Renault URD 2023.pdf\", \"Renault 2024 Rapport d’activité.pdf\"]\n",
    "pdf_chunks = []\"\"\""
   ]
  },
  {
   "cell_type": "code",
   "execution_count": null,
   "id": "fe3b7938",
   "metadata": {},
   "outputs": [],
   "source": [
    "\"\"\"for filename in (pdf_files_list) : \n",
    "    file_path = os.path.join(folder_path, filename)\n",
    "    md_file_path = os.path.join(markdown_folder, filename.split('.')[0]+'.md')\n",
    "    chunks = extract_and_split_pdf(file_path, md_file_path, CHUNK_SIZE, OVERLAP)\n",
    "    pdf_chunks.extend(chunks)\"\"\""
   ]
  },
  {
   "cell_type": "code",
   "execution_count": null,
   "id": "cd189405",
   "metadata": {},
   "outputs": [],
   "source": [
    "\"\"\"index_documents(pdf_chunks, embedding_model, \"../../vectorstore/faiss_vectorestore\")\"\"\""
   ]
  },
  {
   "cell_type": "markdown",
   "id": "ceabd342",
   "metadata": {},
   "source": [
    "### Ingestion Youtube transcript"
   ]
  },
  {
   "cell_type": "code",
   "execution_count": null,
   "id": "80467f5e",
   "metadata": {},
   "outputs": [],
   "source": [
    "ytb_chunks = []\n",
    "CHUNK_SIZE = 150\n",
    "OVERLAP = 25\n",
    "\n",
    "for video_name, url in dict_ytb_videos_urls.items() : \n",
    "    ytb_chunks.extend(extract_and_split_ytb(url, video_name, CHUNK_SIZE, OVERLAP))"
   ]
  },
  {
   "cell_type": "code",
   "execution_count": 5,
   "id": "dc947d57",
   "metadata": {},
   "outputs": [
    {
     "data": {
      "text/plain": [
       "[]"
      ]
     },
     "execution_count": 5,
     "metadata": {},
     "output_type": "execute_result"
    }
   ],
   "source": [
    "ytb_chunks"
   ]
  },
  {
   "cell_type": "code",
   "execution_count": null,
   "id": "6582cace",
   "metadata": {},
   "outputs": [],
   "source": [
    "\"\"\"import pickle\n",
    "\n",
    "with open(\"../../vectorstore/documents_v2.pkl\", \"wb\") as f:\n",
    "    pickle.dump(final_chunks, f)\"\"\""
   ]
  },
  {
   "cell_type": "code",
   "execution_count": null,
   "id": "ac3c7103",
   "metadata": {},
   "outputs": [],
   "source": [
    "\"\"\"vectorstore = FAISS.load_local(index_path, embedding_model, allow_dangerous_deserialization=True)\n",
    "retriever = vectorstore.as_retriever()\n",
    "retriever.get_relevant_documents(\"(Board of Management - BoM)\", k=10)\"\"\""
   ]
  },
  {
   "cell_type": "code",
   "execution_count": null,
   "id": "72e49957",
   "metadata": {},
   "outputs": [],
   "source": [
    "\"\"\"lexical_retriever = BM25Retriever.from_documents(pdf_chunks)\n",
    "lexical_retriever.k = 3\n",
    "lexical_retriever.get_relevant_documents(\"Identify the members of the board of directors in 2021.\")\"\"\""
   ]
  }
 ],
 "metadata": {
  "kernelspec": {
   "display_name": "genai",
   "language": "python",
   "name": "python3"
  },
  "language_info": {
   "codemirror_mode": {
    "name": "ipython",
    "version": 3
   },
   "file_extension": ".py",
   "mimetype": "text/x-python",
   "name": "python",
   "nbconvert_exporter": "python",
   "pygments_lexer": "ipython3",
   "version": "3.13.2"
  }
 },
 "nbformat": 4,
 "nbformat_minor": 5
}
