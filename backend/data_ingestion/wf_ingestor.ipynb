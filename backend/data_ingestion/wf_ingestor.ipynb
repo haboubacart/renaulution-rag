{
 "cells": [
  {
   "cell_type": "code",
   "execution_count": 7,
   "id": "2fcf11ab",
   "metadata": {},
   "outputs": [],
   "source": [
    "from langchain_community.embeddings import HuggingFaceBgeEmbeddings\n",
    "from tqdm import tqdm\n",
    "from pdf_ingestor import extract_and_split_pdf\n",
    "from ytb_ingestor import extract_and_split_ytb\n",
    "from vectorestore import index_documents, create_vectorstore\n",
    "import os \n",
    "from logger import get_logger\n",
    "logger = get_logger()"
   ]
  },
  {
   "cell_type": "code",
   "execution_count": 8,
   "id": "82aeb767",
   "metadata": {},
   "outputs": [],
   "source": [
    "embedding_model = HuggingFaceBgeEmbeddings(\n",
    "    model_name=\"../../multilingual-e5-large\",\n",
    "    encode_kwargs={\"normalize_embeddings\": True},\n",
    "    query_instruction=\"query: \"\n",
    ")"
   ]
  },
  {
   "cell_type": "code",
   "execution_count": 3,
   "id": "c1ee4d27",
   "metadata": {},
   "outputs": [
    {
     "name": "stderr",
     "output_type": "stream",
     "text": [
      "[20:34:01.207] INFO - Création d'un index FAISS vide (dim = 1024)\n",
      "[20:34:01.444] INFO - Sauvegarde de l'index vide dans: ../../faiss_vectorestore\n",
      "[20:34:01.447] INFO - Index vide (cosinus) créé avec succès.\n"
     ]
    },
    {
     "data": {
      "text/plain": [
       "<langchain_community.vectorstores.faiss.FAISS at 0x1942b5fb230>"
      ]
     },
     "execution_count": 3,
     "metadata": {},
     "output_type": "execute_result"
    }
   ],
   "source": [
    "create_vectorstore(embedding_model, \"../../faiss_vectorestore\")"
   ]
  },
  {
   "cell_type": "code",
   "execution_count": 9,
   "id": "90b60834",
   "metadata": {},
   "outputs": [],
   "source": [
    "folder_path = \"../../data\"\n",
    "pdf_files_list = [\"Renault DEU 2020.pdf\", \"Renault DEU 2021.pdf\", \"Renault URD 2022.pdf\", \"Renault URD 2023.pdf\", \"Renault 2024 Rapport d’activité.pdf\"]\n",
    "\n",
    "dict_ytb_videos_urls = {\n",
    "    \"PLAN STRATEGIQUE RENAULUTION\" : \"https://www.youtube.com/watch?app=desktop&v=EtivAvmDr2Q&t=901s\",\n",
    "    \"Conférence résultats financiers 2021 de Renault Group\" : \"https://www.youtube.com/watch?v=VfIeaIFSCQA\",\n",
    "    \"Conférence résultats financiers 2022 de Renault Group\" : \"https://www.youtube.com/watch?v=UWHlyjVtwT8\",\n",
    "    \"Conférence résultats financiers 2023 de Renault Group\" : \"https://www.youtube.com/watch?v=B57wephix-w\",\n",
    "    \"Conférence résultats financiers 2024 de Renault Group\" : \"https://www.youtube.com/watch?v=BA5ZOtWfpY0\",\n",
    "}"
   ]
  },
  {
   "cell_type": "code",
   "execution_count": null,
   "id": "88a76f13",
   "metadata": {},
   "outputs": [
    {
     "name": "stderr",
     "output_type": "stream",
     "text": [
      "[20:34:05.642] INFO - Chargement du PDF : Renault DEU 2020.pdf\n",
      "Cannot set gray non-stroke color because /'P1' is an invalid float value\n",
      "Cannot set gray non-stroke color because /'P2' is an invalid float value\n",
      "[20:38:56.027] INFO - PDF chargé avec succès : Renault DEU 2020.pdf (1 pages)\n",
      "[20:38:56.310] INFO - Chunking terminé : 3423 chunks générés\n",
      "[20:38:56.311] INFO - Chargement du PDF : Renault DEU 2021.pdf\n",
      "[20:40:08.450] INFO - PDF chargé avec succès : Renault DEU 2021.pdf (1 pages)\n",
      "[20:40:08.697] INFO - Chunking terminé : 3022 chunks générés\n",
      "[20:40:08.699] INFO - Chargement du PDF : Renault URD 2022.pdf\n",
      "Cannot set gray non-stroke color because /'P0' is an invalid float value\n",
      "[20:40:50.802] INFO - PDF chargé avec succès : Renault URD 2022.pdf (1 pages)\n",
      "[20:40:50.803] INFO - Chunking terminé : 0 chunks générés\n",
      "[20:40:50.804] INFO - Chargement du PDF : Renault URD 2023.pdf\n",
      "[20:42:52.168] INFO - PDF chargé avec succès : Renault URD 2023.pdf (1 pages)\n",
      "[20:42:52.461] INFO - Chunking terminé : 2996 chunks générés\n",
      "[20:42:52.462] INFO - Chargement du PDF : Renault 2024 Rapport d’activité.pdf\n",
      "[20:42:59.960] INFO - PDF chargé avec succès : Renault 2024 Rapport d’activité.pdf (1 pages)\n",
      "[20:42:59.991] INFO - Chunking terminé : 237 chunks générés\n"
     ]
    }
   ],
   "source": [
    "pdf_chunks = []\n",
    "ytb_chunks = []\n",
    "CHUNK_SIZE = 450\n",
    "OVERLAP = 64\n",
    "\n",
    "for filename in (pdf_files_list) : \n",
    "    file_path = os.path.join(folder_path, filename)\n",
    "    pdf_chunks.extend(extract_and_split_pdf(file_path, CHUNK_SIZE, OVERLAP))\n",
    "\n",
    "for video_name, url in dict_ytb_videos_urls.items() : \n",
    "    ytb_chunks.extend(extract_and_split_ytb(url, video_name, CHUNK_SIZE, OVERLAP))\n",
    "\n",
    "all_chunks = pdf_chunks + ytb_chunks"
   ]
  },
  {
   "cell_type": "code",
   "execution_count": 10,
   "id": "80467f5e",
   "metadata": {},
   "outputs": [
    {
     "name": "stderr",
     "output_type": "stream",
     "text": [
      "[20:51:37.973] INFO - Extraction des sous-titres pour la vidéo : PLAN STRATEGIQUE RENAULUTION (https://www.youtube.com/watch?app=desktop&v=EtivAvmDr2Q&t=901s)\n",
      "[20:51:38.753] INFO - Chargement réussi : 1 documents extraits de PLAN STRATEGIQUE RENAULUTION\n",
      "[20:51:38.754] ERROR - Erreur lors de l'extraction ou du chunking de la vidéo 'PLAN STRATEGIQUE RENAULUTION': create_chunks() got an unexpected keyword argument 'is_pdf'\n",
      "Traceback (most recent call last):\n",
      "  File \"c:\\Users\\habou\\OneDrive\\Bureau\\python-projects\\renaulution-rag\\backend\\data_ingestion\\ytb_ingestor.py\", line 20, in extract_and_split_ytb\n",
      "    all_ytb_chunks = create_chunks(documents, video_name, chunk_size, chunk_overlap)\n",
      "TypeError: create_chunks() got an unexpected keyword argument 'is_pdf'\n",
      "[20:51:38.755] INFO - Extraction des sous-titres pour la vidéo : Conférence résultats financiers 2021 de Renault Group (https://www.youtube.com/watch?v=VfIeaIFSCQA)\n",
      "[20:51:39.463] INFO - Chargement réussi : 1 documents extraits de Conférence résultats financiers 2021 de Renault Group\n",
      "[20:51:39.464] ERROR - Erreur lors de l'extraction ou du chunking de la vidéo 'Conférence résultats financiers 2021 de Renault Group': create_chunks() got an unexpected keyword argument 'is_pdf'\n",
      "Traceback (most recent call last):\n",
      "  File \"c:\\Users\\habou\\OneDrive\\Bureau\\python-projects\\renaulution-rag\\backend\\data_ingestion\\ytb_ingestor.py\", line 20, in extract_and_split_ytb\n",
      "    all_ytb_chunks = create_chunks(documents, video_name, chunk_size, chunk_overlap)\n",
      "TypeError: create_chunks() got an unexpected keyword argument 'is_pdf'\n",
      "[20:51:39.466] INFO - Extraction des sous-titres pour la vidéo : Conférence résultats financiers 2022 de Renault Group (https://www.youtube.com/watch?v=UWHlyjVtwT8)\n",
      "[20:51:40.375] INFO - Chargement réussi : 1 documents extraits de Conférence résultats financiers 2022 de Renault Group\n",
      "[20:51:40.375] ERROR - Erreur lors de l'extraction ou du chunking de la vidéo 'Conférence résultats financiers 2022 de Renault Group': create_chunks() got an unexpected keyword argument 'is_pdf'\n",
      "Traceback (most recent call last):\n",
      "  File \"c:\\Users\\habou\\OneDrive\\Bureau\\python-projects\\renaulution-rag\\backend\\data_ingestion\\ytb_ingestor.py\", line 20, in extract_and_split_ytb\n",
      "    all_ytb_chunks = create_chunks(documents, video_name, chunk_size, chunk_overlap)\n",
      "TypeError: create_chunks() got an unexpected keyword argument 'is_pdf'\n",
      "[20:51:40.377] INFO - Extraction des sous-titres pour la vidéo : Conférence résultats financiers 2023 de Renault Group (https://www.youtube.com/watch?v=B57wephix-w)\n",
      "[20:51:42.034] INFO - Chargement réussi : 1 documents extraits de Conférence résultats financiers 2023 de Renault Group\n",
      "[20:51:42.035] ERROR - Erreur lors de l'extraction ou du chunking de la vidéo 'Conférence résultats financiers 2023 de Renault Group': create_chunks() got an unexpected keyword argument 'is_pdf'\n",
      "Traceback (most recent call last):\n",
      "  File \"c:\\Users\\habou\\OneDrive\\Bureau\\python-projects\\renaulution-rag\\backend\\data_ingestion\\ytb_ingestor.py\", line 20, in extract_and_split_ytb\n",
      "    all_ytb_chunks = create_chunks(documents, video_name, chunk_size, chunk_overlap)\n",
      "TypeError: create_chunks() got an unexpected keyword argument 'is_pdf'\n",
      "[20:51:42.036] INFO - Extraction des sous-titres pour la vidéo : Conférence résultats financiers 2024 de Renault Group (https://www.youtube.com/watch?v=BA5ZOtWfpY0)\n",
      "[20:51:42.952] INFO - Chargement réussi : 1 documents extraits de Conférence résultats financiers 2024 de Renault Group\n",
      "[20:51:42.953] ERROR - Erreur lors de l'extraction ou du chunking de la vidéo 'Conférence résultats financiers 2024 de Renault Group': create_chunks() got an unexpected keyword argument 'is_pdf'\n",
      "Traceback (most recent call last):\n",
      "  File \"c:\\Users\\habou\\OneDrive\\Bureau\\python-projects\\renaulution-rag\\backend\\data_ingestion\\ytb_ingestor.py\", line 20, in extract_and_split_ytb\n",
      "    all_ytb_chunks = create_chunks(documents, video_name, chunk_size, chunk_overlap)\n",
      "TypeError: create_chunks() got an unexpected keyword argument 'is_pdf'\n"
     ]
    }
   ],
   "source": [
    "ytb_chunks = []\n",
    "CHUNK_SIZE = 450\n",
    "OVERLAP = 64\n",
    "\n",
    "for video_name, url in dict_ytb_videos_urls.items() : \n",
    "    ytb_chunks.extend(extract_and_split_ytb(url, video_name, CHUNK_SIZE, OVERLAP))"
   ]
  },
  {
   "cell_type": "code",
   "execution_count": 30,
   "id": "c87b00c2",
   "metadata": {},
   "outputs": [
    {
     "data": {
      "text/plain": [
       "Document(metadata={'source': 'Renault DEU 2021.pdf', 'id': '776fb501-4a34-47f3-b235-f435ebf7d76c'}, page_content='Version e-accessible par Réalisation +33 (0)1 45 58 80 00')"
      ]
     },
     "execution_count": 30,
     "metadata": {},
     "output_type": "execute_result"
    }
   ],
   "source": [
    "pdf_chunks[-1]"
   ]
  },
  {
   "cell_type": "code",
   "execution_count": null,
   "id": "f858f925",
   "metadata": {},
   "outputs": [],
   "source": [
    "index_documents(all_chunks, embedding_model, \"../../faiss_vectorestore\")"
   ]
  },
  {
   "cell_type": "code",
   "execution_count": null,
   "id": "698421ad",
   "metadata": {},
   "outputs": [
    {
     "name": "stderr",
     "output_type": "stream",
     "text": [
      "[13:10:08] INFO - Début de l’indexation de 247 chunks en batches de 64...\n",
      "[13:10:08] INFO - Calcul des embeddings et indexation par batch avec barre de progression...\n",
      "Indexing:   0%|          | 0/4 [00:00<?, ?batch/s][13:10:08] INFO - Indexation du batch 1...\n",
      "Indexing:  25%|██▌       | 1/4 [00:26<01:18, 26.25s/batch][13:10:34] INFO - Indexation du batch 2...\n",
      "Indexing:  50%|█████     | 2/4 [01:00<01:02, 31.09s/batch][13:11:08] INFO - Indexation du batch 3...\n",
      "Indexing:  75%|███████▌  | 3/4 [01:29<00:30, 30.04s/batch][13:11:37] INFO - Indexation du batch 4...\n",
      "Indexing: 100%|██████████| 4/4 [01:57<00:00, 29.47s/batch]\n",
      "[13:12:06] INFO - Sauvegarde de l’index local dans : ../../faiss_vectorestore\n",
      "[13:12:06] INFO - Indexation terminée avec succès.\n"
     ]
    }
   ],
   "source": [
    "pdf_chunks = extract_and_split_pdf(file_path, 450, 64)\n",
    "ytb_chunks = extract_and_split_ytb(\"https://www.youtube.com/watch?v=VfIeaIFSCQA\", 450, 64)"
   ]
  }
 ],
 "metadata": {
  "kernelspec": {
   "display_name": "genai",
   "language": "python",
   "name": "python3"
  },
  "language_info": {
   "codemirror_mode": {
    "name": "ipython",
    "version": 3
   },
   "file_extension": ".py",
   "mimetype": "text/x-python",
   "name": "python",
   "nbconvert_exporter": "python",
   "pygments_lexer": "ipython3",
   "version": "3.13.2"
  }
 },
 "nbformat": 4,
 "nbformat_minor": 5
}
